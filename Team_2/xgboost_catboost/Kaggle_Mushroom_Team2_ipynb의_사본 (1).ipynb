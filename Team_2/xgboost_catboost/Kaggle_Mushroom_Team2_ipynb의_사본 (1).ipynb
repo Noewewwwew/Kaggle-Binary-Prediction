{
  "nbformat": 4,
  "nbformat_minor": 0,
  "metadata": {
    "colab": {
      "provenance": [],
      "gpuType": "T4"
    },
    "kernelspec": {
      "name": "python3",
      "display_name": "Python 3"
    },
    "language_info": {
      "name": "python"
    },
    "accelerator": "GPU"
  },
  "cells": [
    {
      "cell_type": "code",
      "execution_count": 1,
      "metadata": {
        "colab": {
          "base_uri": "https://localhost:8080/"
        },
        "id": "REZmzfXdmxN1",
        "outputId": "ec7714cb-e25a-40b3-b5a6-0e53ebac1aaf"
      },
      "outputs": [
        {
          "output_type": "stream",
          "name": "stdout",
          "text": [
            "Mounted at /content/drive\n"
          ]
        }
      ],
      "source": [
        "from google.colab import drive\n",
        "drive.mount('/content/drive')"
      ]
    },
    {
      "cell_type": "code",
      "source": [
        "cd /content/drive/MyDrive/Kaggle_Dataset/Mushroom"
      ],
      "metadata": {
        "colab": {
          "base_uri": "https://localhost:8080/"
        },
        "id": "w0J34xsJm7GC",
        "outputId": "fb47c823-3cd2-4012-952b-ca1d08cb3591"
      },
      "execution_count": 2,
      "outputs": [
        {
          "output_type": "stream",
          "name": "stdout",
          "text": [
            "/content/drive/MyDrive/Kaggle_Dataset/Mushroom\n"
          ]
        }
      ]
    },
    {
      "cell_type": "code",
      "source": [
        "import numpy as np\n",
        "import pandas as pd\n",
        "from sklearn.model_selection import train_test_split"
      ],
      "metadata": {
        "id": "jnz4uVufqCbS"
      },
      "execution_count": 3,
      "outputs": []
    },
    {
      "cell_type": "code",
      "source": [
        "df_train = pd.read_csv('train.csv')\n",
        "df_test = pd.read_csv('test.csv')"
      ],
      "metadata": {
        "id": "zk6DujThqOJM"
      },
      "execution_count": 4,
      "outputs": []
    },
    {
      "cell_type": "code",
      "source": [
        "# id는 필요없는 feature이므로 삭제\n",
        "df_train = df_train.drop('id', axis = 1)\n",
        "df_test = df_test.drop('id', axis = 1)"
      ],
      "metadata": {
        "id": "GtmQje-bqwU2"
      },
      "execution_count": 5,
      "outputs": []
    },
    {
      "cell_type": "code",
      "source": [
        "from sklearn.preprocessing import LabelEncoder"
      ],
      "metadata": {
        "id": "ZPyzsZtQr1Ao"
      },
      "execution_count": 6,
      "outputs": []
    },
    {
      "cell_type": "code",
      "source": [
        "class SafeLabelEncoder(LabelEncoder):\n",
        "    def __init__(self):\n",
        "        super().__init__()\n",
        "        self.classes_ = np.array([])\n",
        "\n",
        "    def fit(self, y):\n",
        "        y = y.astype(str)\n",
        "        self.classes_ = np.unique(y)\n",
        "        return self\n",
        "\n",
        "    def transform(self, y):\n",
        "        y = y.astype(str)\n",
        "        # 새롭게 등장한 카테고리(클래스)에 대해 -1을 반환\n",
        "        return np.array([self._safe_transform(val) for val in y])\n",
        "\n",
        "    def _safe_transform(self, val):\n",
        "        if val in self.classes_:\n",
        "            return np.where(self.classes_ == val)[0][0]\n",
        "        else:\n",
        "            # 새로운 데이터에 대해 -1을 반환\n",
        "            return -1\n",
        "\n",
        "    def fit_transform(self, y):\n",
        "        return self.fit(y).transform(y)"
      ],
      "metadata": {
        "id": "7Bl6_ps2sXOX"
      },
      "execution_count": 7,
      "outputs": []
    },
    {
      "cell_type": "code",
      "source": [
        "# tqdm 라이브러리: 반복문 진행률 시각화\n",
        "from tqdm import tqdm"
      ],
      "metadata": {
        "id": "lRyWhF0yvbME"
      },
      "execution_count": 8,
      "outputs": []
    },
    {
      "cell_type": "code",
      "source": [
        "skip = {'cap-diameter' , 'stem-height' , 'stem-width' , 'class'}\n",
        "SLE = SafeLabelEncoder()\n",
        "\n",
        "for col in tqdm(df_train.columns):\n",
        "    if col not in skip:\n",
        "        SLE.fit(df_train[col])\n",
        "        df_train[col] = SLE.transform(df_train[col])\n",
        "        df_test[col] = SLE.transform(df_test[col])\n",
        "\n",
        "df_train['class'] = SLE.fit_transform(df_train['class'])"
      ],
      "metadata": {
        "colab": {
          "base_uri": "https://localhost:8080/"
        },
        "id": "UL5BuiOmsenA",
        "outputId": "59f79305-de17-4210-f6be-104c7c493e44"
      },
      "execution_count": 9,
      "outputs": [
        {
          "output_type": "stream",
          "name": "stderr",
          "text": [
            "100%|██████████| 21/21 [19:09<00:00, 54.75s/it]\n"
          ]
        }
      ]
    },
    {
      "cell_type": "code",
      "source": [
        "X = df_train\n",
        "y = df_train.pop('class')"
      ],
      "metadata": {
        "id": "q7u8tL4P23hF"
      },
      "execution_count": 10,
      "outputs": []
    },
    {
      "cell_type": "code",
      "source": [
        "X_train, X_valid, y_train, y_valid = train_test_split(X, y, test_size=0.1, random_state=156)"
      ],
      "metadata": {
        "id": "gYI68OYm3b1M"
      },
      "execution_count": 11,
      "outputs": []
    },
    {
      "cell_type": "code",
      "source": [
        "# hyperopt 라이브러리: 하이퍼파라미터 최적화 기능 제공\n",
        "import hyperopt\n",
        "from hyperopt import hp, STATUS_OK, fmin, tpe, Trials"
      ],
      "metadata": {
        "id": "7D9KRC13nuCm"
      },
      "execution_count": 12,
      "outputs": []
    },
    {
      "cell_type": "code",
      "source": [
        "from sklearn.model_selection import cross_val_score"
      ],
      "metadata": {
        "id": "55IR-NuW3nds"
      },
      "execution_count": 15,
      "outputs": []
    },
    {
      "cell_type": "code",
      "source": [
        "pip install catboost"
      ],
      "metadata": {
        "colab": {
          "base_uri": "https://localhost:8080/"
        },
        "id": "F6mCYdAke0d7",
        "outputId": "5884f922-dbd1-4914-c928-0c81d16d5bc6"
      },
      "execution_count": 17,
      "outputs": [
        {
          "output_type": "stream",
          "name": "stdout",
          "text": [
            "Collecting catboost\n",
            "  Downloading catboost-1.2.5-cp310-cp310-manylinux2014_x86_64.whl.metadata (1.2 kB)\n",
            "Requirement already satisfied: graphviz in /usr/local/lib/python3.10/dist-packages (from catboost) (0.20.3)\n",
            "Requirement already satisfied: matplotlib in /usr/local/lib/python3.10/dist-packages (from catboost) (3.7.1)\n",
            "Requirement already satisfied: numpy>=1.16.0 in /usr/local/lib/python3.10/dist-packages (from catboost) (1.26.4)\n",
            "Requirement already satisfied: pandas>=0.24 in /usr/local/lib/python3.10/dist-packages (from catboost) (2.1.4)\n",
            "Requirement already satisfied: scipy in /usr/local/lib/python3.10/dist-packages (from catboost) (1.13.1)\n",
            "Requirement already satisfied: plotly in /usr/local/lib/python3.10/dist-packages (from catboost) (5.15.0)\n",
            "Requirement already satisfied: six in /usr/local/lib/python3.10/dist-packages (from catboost) (1.16.0)\n",
            "Requirement already satisfied: python-dateutil>=2.8.2 in /usr/local/lib/python3.10/dist-packages (from pandas>=0.24->catboost) (2.8.2)\n",
            "Requirement already satisfied: pytz>=2020.1 in /usr/local/lib/python3.10/dist-packages (from pandas>=0.24->catboost) (2024.1)\n",
            "Requirement already satisfied: tzdata>=2022.1 in /usr/local/lib/python3.10/dist-packages (from pandas>=0.24->catboost) (2024.1)\n",
            "Requirement already satisfied: contourpy>=1.0.1 in /usr/local/lib/python3.10/dist-packages (from matplotlib->catboost) (1.2.1)\n",
            "Requirement already satisfied: cycler>=0.10 in /usr/local/lib/python3.10/dist-packages (from matplotlib->catboost) (0.12.1)\n",
            "Requirement already satisfied: fonttools>=4.22.0 in /usr/local/lib/python3.10/dist-packages (from matplotlib->catboost) (4.53.1)\n",
            "Requirement already satisfied: kiwisolver>=1.0.1 in /usr/local/lib/python3.10/dist-packages (from matplotlib->catboost) (1.4.5)\n",
            "Requirement already satisfied: packaging>=20.0 in /usr/local/lib/python3.10/dist-packages (from matplotlib->catboost) (24.1)\n",
            "Requirement already satisfied: pillow>=6.2.0 in /usr/local/lib/python3.10/dist-packages (from matplotlib->catboost) (9.4.0)\n",
            "Requirement already satisfied: pyparsing>=2.3.1 in /usr/local/lib/python3.10/dist-packages (from matplotlib->catboost) (3.1.4)\n",
            "Requirement already satisfied: tenacity>=6.2.0 in /usr/local/lib/python3.10/dist-packages (from plotly->catboost) (9.0.0)\n",
            "Downloading catboost-1.2.5-cp310-cp310-manylinux2014_x86_64.whl (98.2 MB)\n",
            "\u001b[2K   \u001b[90m━━━━━━━━━━━━━━━━━━━━━━━━━━━━━━━━━━━━━━━━\u001b[0m \u001b[32m98.2/98.2 MB\u001b[0m \u001b[31m9.5 MB/s\u001b[0m eta \u001b[36m0:00:00\u001b[0m\n",
            "\u001b[?25hInstalling collected packages: catboost\n",
            "Successfully installed catboost-1.2.5\n"
          ]
        }
      ]
    },
    {
      "cell_type": "code",
      "source": [
        "# CatBoost\n",
        "from catboost import CatBoostClassifier"
      ],
      "metadata": {
        "id": "g-YoL9Hhesm_"
      },
      "execution_count": 18,
      "outputs": []
    },
    {
      "cell_type": "code",
      "source": [
        "# CatBoost 하이퍼파라미터\n",
        "cat_search_space = {'learning_rate': hp.uniform('learning_rate', 0.01, 0.3),\n",
        "                    'depth': hp.quniform('depth', 4, 10, 1),\n",
        "                    'l2_leaf_reg': hp.randint('l2_leaf_reg', 1, 10),\n",
        "                    'border_count': hp.quniform('border_count', 32, 255, 1)}"
      ],
      "metadata": {
        "id": "IkONzdYuoHcF"
      },
      "execution_count": 20,
      "outputs": []
    },
    {
      "cell_type": "code",
      "source": [
        "cat_search_space = {'learning_rate': hp.uniform('learning_rate', 0.01, 0.3),\n",
        "                    'depth': hp.quniform('depth', 4, 10, 1),\n",
        "                    'l2_leaf_reg': hp.uniform('l2_leaf_reg', 1, 10)}"
      ],
      "metadata": {
        "id": "8kh9BxCcjKMj"
      },
      "execution_count": 32,
      "outputs": []
    },
    {
      "cell_type": "code",
      "source": [
        "def cat_obj(search_space):\n",
        "    cat = CatBoostClassifier(iterations=100,\n",
        "                             learning_rate=search_space['learning_rate'],\n",
        "                             depth=int(search_space['depth']),\n",
        "                             l2_leaf_reg=search_space['l2_leaf_reg'],\n",
        "                             logging_level='Silent')\n",
        "\n",
        "\n",
        "    accuracy = cross_val_score(cat, X_train, y_train, scoring='accuracy', cv=3)\n",
        "    return {'loss' : -1 * np.mean(accuracy) , 'status' : STATUS_OK}"
      ],
      "metadata": {
        "id": "ljHf3z7t4TWK"
      },
      "execution_count": 33,
      "outputs": []
    },
    {
      "cell_type": "code",
      "source": [
        "import warnings\n",
        "warnings.filterwarnings('ignore')"
      ],
      "metadata": {
        "id": "jK4sRQ3x6VLW"
      },
      "execution_count": 28,
      "outputs": []
    },
    {
      "cell_type": "code",
      "source": [
        "trial_val = Trials()\n",
        "\n",
        "best = fmin(fn = cat_obj,\n",
        "            space = cat_search_space,\n",
        "            algo = tpe.suggest,\n",
        "            max_evals = 50,\n",
        "            trials = trial_val)"
      ],
      "metadata": {
        "colab": {
          "base_uri": "https://localhost:8080/"
        },
        "id": "KuyVuSugiBXP",
        "outputId": "81e52d32-6b59-4525-8bff-0f6a1c71c487"
      },
      "execution_count": 34,
      "outputs": [
        {
          "output_type": "stream",
          "name": "stdout",
          "text": [
            "100%|██████████| 50/50 [2:24:35<00:00, 173.52s/trial, best loss: -0.9912449870047307]\n"
          ]
        }
      ]
    },
    {
      "cell_type": "code",
      "source": [
        "cat_wrapper = CatBoostClassifier(iterations=500,\n",
        "                                learning_rate=round(best['learning_rate'], 5),\n",
        "                                depth=int(best['depth']),\n",
        "                                l2_leaf_reg=best['l2_leaf_reg'],\n",
        "                                logging_level='Silent')"
      ],
      "metadata": {
        "id": "UVZL-d9mrj-8"
      },
      "execution_count": 35,
      "outputs": []
    },
    {
      "cell_type": "code",
      "source": [
        "# CatBoost 하이퍼파라미터\n",
        "best"
      ],
      "metadata": {
        "colab": {
          "base_uri": "https://localhost:8080/"
        },
        "id": "bAvLGsseIicL",
        "outputId": "0927a915-5ef6-48cc-8051-ad567bb1d270"
      },
      "execution_count": 37,
      "outputs": [
        {
          "output_type": "execute_result",
          "data": {
            "text/plain": [
              "{'depth': 10.0,\n",
              " 'l2_leaf_reg': 2.765948425400872,\n",
              " 'learning_rate': 0.20729401044979315}"
            ]
          },
          "metadata": {},
          "execution_count": 37
        }
      ]
    },
    {
      "cell_type": "code",
      "source": [
        "valid = [(X_train, y_train), (X_valid, y_valid)]\n",
        "cat_wrapper.fit(X_train, y_train, eval_set=valid, verbose=True)"
      ],
      "metadata": {
        "id": "w2PzWBQ7GeIu",
        "colab": {
          "base_uri": "https://localhost:8080/"
        },
        "outputId": "c7eb191f-ce55-42dd-c2d5-8b401794268c"
      },
      "execution_count": 38,
      "outputs": [
        {
          "output_type": "execute_result",
          "data": {
            "text/plain": [
              "<catboost.core.CatBoostClassifier at 0x7fcc85cf2020>"
            ]
          },
          "metadata": {},
          "execution_count": 38
        }
      ]
    },
    {
      "cell_type": "code",
      "source": [
        "cat_pred_probs = cat_wrapper.predict(df_test)\n",
        "cat_preds = [1 if x > 0.5 else 0 for x in cat_pred_probs]"
      ],
      "metadata": {
        "id": "YpzlOAs1JtZ_"
      },
      "execution_count": 39,
      "outputs": []
    },
    {
      "cell_type": "code",
      "source": [
        "id = pd.read_csv('test.csv')['id']\n",
        "\n",
        "with open(\"result_cat.csv\", \"w\") as f2:\n",
        "    f2.write(\"id,class\\n\")\n",
        "    for i , p in zip(id , cat_preds):\n",
        "\n",
        "      if p == 1:\n",
        "        f2.write(f\"{i},p\\n\")\n",
        "      else:\n",
        "        f2.write(f\"{i},e\\n\")"
      ],
      "metadata": {
        "id": "HOPdoD5kSyVx"
      },
      "execution_count": 40,
      "outputs": []
    },
    {
      "cell_type": "code",
      "source": [
        "# XGBoost\n",
        "from xgboost import XGBClassifier"
      ],
      "metadata": {
        "id": "yZ90CSV1IFbQ"
      },
      "execution_count": 41,
      "outputs": []
    },
    {
      "cell_type": "code",
      "source": [
        "xgb_search_space = {'max_depth' : hp.quniform('max_depth' , 5 , 20 , 1) ,\n",
        "                    'min_child_weight' : hp.quniform('min_child_weight' , 1 , 2 , 1) ,\n",
        "                    'learning_rate' : hp.uniform('learning_rate' , 0.01 , 0.3) ,\n",
        "                    'colsample_bytree' : hp.uniform('colsample_bytree' , 0.5 , 1)\n",
        "                    }"
      ],
      "metadata": {
        "id": "gXtCINJWITix"
      },
      "execution_count": 42,
      "outputs": []
    },
    {
      "cell_type": "code",
      "source": [
        "def xgb_obj(search_space):\n",
        "    xgb = XGBClassifier(n_estimators = 100,\n",
        "                        max_depth = int(search_space['max_depth']),\n",
        "                        min_child_weight = int(search_space['min_child_weight']),\n",
        "                        learning_rate = search_space['learning_rate'],\n",
        "                        colsample_bytree = search_space['colsample_bytree'],\n",
        "                        eval_metric = 'logloss',\n",
        "                        tree_method = 'gpu_hist',\n",
        "                        use_label_encoder = False,\n",
        "                        n_jobs = -1)\n",
        "\n",
        "    accuracy = cross_val_score(xgb, X_train, y_train, scoring='accuracy', cv=3)\n",
        "    return {'loss' : -1 * np.mean(accuracy) , 'status' : STATUS_OK}"
      ],
      "metadata": {
        "id": "5Mq0ESC5INR8"
      },
      "execution_count": 43,
      "outputs": []
    },
    {
      "cell_type": "code",
      "source": [
        "trial_val = Trials()\n",
        "\n",
        "xgb_best = fmin(fn = xgb_obj,\n",
        "                space = xgb_search_space,\n",
        "                algo = tpe.suggest,\n",
        "                max_evals = 50,\n",
        "                trials = trial_val)"
      ],
      "metadata": {
        "colab": {
          "base_uri": "https://localhost:8080/"
        },
        "id": "RjLq6OmKIcQ9",
        "outputId": "c2fc8776-4657-4ea8-bdbc-359855e65d32"
      },
      "execution_count": 44,
      "outputs": [
        {
          "output_type": "stream",
          "name": "stdout",
          "text": [
            "100%|██████████| 50/50 [28:59<00:00, 34.79s/trial, best loss: -0.9923557614789322]\n"
          ]
        }
      ]
    },
    {
      "cell_type": "code",
      "source": [
        "# XGBoost 하이퍼파라미터\n",
        "xgb_best"
      ],
      "metadata": {
        "colab": {
          "base_uri": "https://localhost:8080/"
        },
        "id": "6fHBe5iGJMBg",
        "outputId": "16e801ba-696d-4de2-8064-a159a373257d"
      },
      "execution_count": 45,
      "outputs": [
        {
          "output_type": "execute_result",
          "data": {
            "text/plain": [
              "{'colsample_bytree': 0.500868678105999,\n",
              " 'learning_rate': 0.0720334754812404,\n",
              " 'max_depth': 18.0,\n",
              " 'min_child_weight': 2.0}"
            ]
          },
          "metadata": {},
          "execution_count": 45
        }
      ]
    },
    {
      "cell_type": "code",
      "source": [
        "xgb_wrapper = XGBClassifier(n_estimators = 400 ,\n",
        "                            learning_rate = round(xgb_best['learning_rate'] , 5),\n",
        "                            max_depth = int(xgb_best['max_depth']),\n",
        "                            min_child_weight = int(xgb_best['min_child_weight']),\n",
        "                            colsample_bytree = round(xgb_best['colsample_bytree'] , 5),\n",
        "                            early_stopping_rounds=50,\n",
        "                            eval_metric='logloss')"
      ],
      "metadata": {
        "id": "CunKBu2IIfSP"
      },
      "execution_count": 46,
      "outputs": []
    },
    {
      "cell_type": "code",
      "source": [
        "valid = [(X_train, y_train), (X_valid, y_valid)]\n",
        "xgb_wrapper.fit(X_train, y_train, eval_set=valid, verbose=True)"
      ],
      "metadata": {
        "colab": {
          "base_uri": "https://localhost:8080/",
          "height": 1000
        },
        "id": "5HeGG84FIqLk",
        "outputId": "c16586af-3a3e-48e0-d9b5-d597fb59cbc5"
      },
      "execution_count": 47,
      "outputs": [
        {
          "output_type": "stream",
          "name": "stdout",
          "text": [
            "[0]\tvalidation_0-logloss:0.63094\tvalidation_1-logloss:0.63091\n",
            "[1]\tvalidation_0-logloss:0.57840\tvalidation_1-logloss:0.57851\n",
            "[2]\tvalidation_0-logloss:0.52776\tvalidation_1-logloss:0.52793\n",
            "[3]\tvalidation_0-logloss:0.48808\tvalidation_1-logloss:0.48829\n",
            "[4]\tvalidation_0-logloss:0.44801\tvalidation_1-logloss:0.44834\n",
            "[5]\tvalidation_0-logloss:0.41141\tvalidation_1-logloss:0.41180\n",
            "[6]\tvalidation_0-logloss:0.38076\tvalidation_1-logloss:0.38122\n",
            "[7]\tvalidation_0-logloss:0.35345\tvalidation_1-logloss:0.35395\n",
            "[8]\tvalidation_0-logloss:0.32850\tvalidation_1-logloss:0.32905\n",
            "[9]\tvalidation_0-logloss:0.30524\tvalidation_1-logloss:0.30578\n",
            "[10]\tvalidation_0-logloss:0.28282\tvalidation_1-logloss:0.28337\n",
            "[11]\tvalidation_0-logloss:0.26287\tvalidation_1-logloss:0.26343\n",
            "[12]\tvalidation_0-logloss:0.24684\tvalidation_1-logloss:0.24739\n",
            "[13]\tvalidation_0-logloss:0.22973\tvalidation_1-logloss:0.23028\n",
            "[14]\tvalidation_0-logloss:0.21486\tvalidation_1-logloss:0.21548\n",
            "[15]\tvalidation_0-logloss:0.20139\tvalidation_1-logloss:0.20203\n",
            "[16]\tvalidation_0-logloss:0.19163\tvalidation_1-logloss:0.19225\n",
            "[17]\tvalidation_0-logloss:0.17958\tvalidation_1-logloss:0.18023\n",
            "[18]\tvalidation_0-logloss:0.16885\tvalidation_1-logloss:0.16956\n",
            "[19]\tvalidation_0-logloss:0.15866\tvalidation_1-logloss:0.15943\n",
            "[20]\tvalidation_0-logloss:0.14952\tvalidation_1-logloss:0.15036\n",
            "[21]\tvalidation_0-logloss:0.14164\tvalidation_1-logloss:0.14248\n",
            "[22]\tvalidation_0-logloss:0.13344\tvalidation_1-logloss:0.13432\n",
            "[23]\tvalidation_0-logloss:0.12588\tvalidation_1-logloss:0.12682\n",
            "[24]\tvalidation_0-logloss:0.11899\tvalidation_1-logloss:0.11994\n",
            "[25]\tvalidation_0-logloss:0.11407\tvalidation_1-logloss:0.11501\n",
            "[26]\tvalidation_0-logloss:0.10793\tvalidation_1-logloss:0.10888\n",
            "[27]\tvalidation_0-logloss:0.10294\tvalidation_1-logloss:0.10391\n",
            "[28]\tvalidation_0-logloss:0.09829\tvalidation_1-logloss:0.09931\n",
            "[29]\tvalidation_0-logloss:0.09372\tvalidation_1-logloss:0.09480\n",
            "[30]\tvalidation_0-logloss:0.08930\tvalidation_1-logloss:0.09041\n",
            "[31]\tvalidation_0-logloss:0.08564\tvalidation_1-logloss:0.08676\n",
            "[32]\tvalidation_0-logloss:0.08182\tvalidation_1-logloss:0.08300\n",
            "[33]\tvalidation_0-logloss:0.07833\tvalidation_1-logloss:0.07951\n",
            "[34]\tvalidation_0-logloss:0.07494\tvalidation_1-logloss:0.07617\n",
            "[35]\tvalidation_0-logloss:0.07220\tvalidation_1-logloss:0.07348\n",
            "[36]\tvalidation_0-logloss:0.06928\tvalidation_1-logloss:0.07062\n",
            "[37]\tvalidation_0-logloss:0.06664\tvalidation_1-logloss:0.06806\n",
            "[38]\tvalidation_0-logloss:0.06400\tvalidation_1-logloss:0.06547\n",
            "[39]\tvalidation_0-logloss:0.06212\tvalidation_1-logloss:0.06359\n",
            "[40]\tvalidation_0-logloss:0.05987\tvalidation_1-logloss:0.06143\n",
            "[41]\tvalidation_0-logloss:0.05819\tvalidation_1-logloss:0.05974\n",
            "[42]\tvalidation_0-logloss:0.05654\tvalidation_1-logloss:0.05809\n",
            "[43]\tvalidation_0-logloss:0.05472\tvalidation_1-logloss:0.05637\n",
            "[44]\tvalidation_0-logloss:0.05306\tvalidation_1-logloss:0.05480\n",
            "[45]\tvalidation_0-logloss:0.05149\tvalidation_1-logloss:0.05331\n",
            "[46]\tvalidation_0-logloss:0.05024\tvalidation_1-logloss:0.05209\n",
            "[47]\tvalidation_0-logloss:0.04912\tvalidation_1-logloss:0.05110\n",
            "[48]\tvalidation_0-logloss:0.04784\tvalidation_1-logloss:0.04989\n",
            "[49]\tvalidation_0-logloss:0.04685\tvalidation_1-logloss:0.04898\n",
            "[50]\tvalidation_0-logloss:0.04590\tvalidation_1-logloss:0.04802\n",
            "[51]\tvalidation_0-logloss:0.04481\tvalidation_1-logloss:0.04704\n",
            "[52]\tvalidation_0-logloss:0.04391\tvalidation_1-logloss:0.04621\n",
            "[53]\tvalidation_0-logloss:0.04308\tvalidation_1-logloss:0.04546\n",
            "[54]\tvalidation_0-logloss:0.04226\tvalidation_1-logloss:0.04476\n",
            "[55]\tvalidation_0-logloss:0.04145\tvalidation_1-logloss:0.04403\n",
            "[56]\tvalidation_0-logloss:0.04066\tvalidation_1-logloss:0.04330\n",
            "[57]\tvalidation_0-logloss:0.04001\tvalidation_1-logloss:0.04274\n",
            "[58]\tvalidation_0-logloss:0.03938\tvalidation_1-logloss:0.04218\n",
            "[59]\tvalidation_0-logloss:0.03884\tvalidation_1-logloss:0.04168\n",
            "[60]\tvalidation_0-logloss:0.03820\tvalidation_1-logloss:0.04118\n",
            "[61]\tvalidation_0-logloss:0.03778\tvalidation_1-logloss:0.04085\n",
            "[62]\tvalidation_0-logloss:0.03734\tvalidation_1-logloss:0.04043\n",
            "[63]\tvalidation_0-logloss:0.03694\tvalidation_1-logloss:0.04008\n",
            "[64]\tvalidation_0-logloss:0.03669\tvalidation_1-logloss:0.03984\n",
            "[65]\tvalidation_0-logloss:0.03627\tvalidation_1-logloss:0.03955\n",
            "[66]\tvalidation_0-logloss:0.03581\tvalidation_1-logloss:0.03922\n",
            "[67]\tvalidation_0-logloss:0.03546\tvalidation_1-logloss:0.03894\n",
            "[68]\tvalidation_0-logloss:0.03515\tvalidation_1-logloss:0.03870\n",
            "[69]\tvalidation_0-logloss:0.03475\tvalidation_1-logloss:0.03841\n",
            "[70]\tvalidation_0-logloss:0.03447\tvalidation_1-logloss:0.03814\n",
            "[71]\tvalidation_0-logloss:0.03422\tvalidation_1-logloss:0.03796\n",
            "[72]\tvalidation_0-logloss:0.03406\tvalidation_1-logloss:0.03780\n",
            "[73]\tvalidation_0-logloss:0.03382\tvalidation_1-logloss:0.03763\n",
            "[74]\tvalidation_0-logloss:0.03350\tvalidation_1-logloss:0.03745\n",
            "[75]\tvalidation_0-logloss:0.03316\tvalidation_1-logloss:0.03729\n",
            "[76]\tvalidation_0-logloss:0.03296\tvalidation_1-logloss:0.03716\n",
            "[77]\tvalidation_0-logloss:0.03276\tvalidation_1-logloss:0.03705\n",
            "[78]\tvalidation_0-logloss:0.03245\tvalidation_1-logloss:0.03692\n",
            "[79]\tvalidation_0-logloss:0.03235\tvalidation_1-logloss:0.03683\n",
            "[80]\tvalidation_0-logloss:0.03208\tvalidation_1-logloss:0.03671\n",
            "[81]\tvalidation_0-logloss:0.03187\tvalidation_1-logloss:0.03662\n",
            "[82]\tvalidation_0-logloss:0.03164\tvalidation_1-logloss:0.03652\n",
            "[83]\tvalidation_0-logloss:0.03147\tvalidation_1-logloss:0.03644\n",
            "[84]\tvalidation_0-logloss:0.03128\tvalidation_1-logloss:0.03637\n",
            "[85]\tvalidation_0-logloss:0.03111\tvalidation_1-logloss:0.03632\n",
            "[86]\tvalidation_0-logloss:0.03094\tvalidation_1-logloss:0.03626\n",
            "[87]\tvalidation_0-logloss:0.03077\tvalidation_1-logloss:0.03620\n",
            "[88]\tvalidation_0-logloss:0.03061\tvalidation_1-logloss:0.03613\n",
            "[89]\tvalidation_0-logloss:0.03055\tvalidation_1-logloss:0.03608\n",
            "[90]\tvalidation_0-logloss:0.03042\tvalidation_1-logloss:0.03604\n",
            "[91]\tvalidation_0-logloss:0.03027\tvalidation_1-logloss:0.03600\n",
            "[92]\tvalidation_0-logloss:0.03019\tvalidation_1-logloss:0.03594\n",
            "[93]\tvalidation_0-logloss:0.03014\tvalidation_1-logloss:0.03589\n",
            "[94]\tvalidation_0-logloss:0.02995\tvalidation_1-logloss:0.03586\n",
            "[95]\tvalidation_0-logloss:0.02979\tvalidation_1-logloss:0.03580\n",
            "[96]\tvalidation_0-logloss:0.02963\tvalidation_1-logloss:0.03576\n",
            "[97]\tvalidation_0-logloss:0.02955\tvalidation_1-logloss:0.03574\n",
            "[98]\tvalidation_0-logloss:0.02942\tvalidation_1-logloss:0.03574\n",
            "[99]\tvalidation_0-logloss:0.02927\tvalidation_1-logloss:0.03571\n",
            "[100]\tvalidation_0-logloss:0.02915\tvalidation_1-logloss:0.03569\n",
            "[101]\tvalidation_0-logloss:0.02908\tvalidation_1-logloss:0.03567\n",
            "[102]\tvalidation_0-logloss:0.02892\tvalidation_1-logloss:0.03565\n",
            "[103]\tvalidation_0-logloss:0.02887\tvalidation_1-logloss:0.03562\n",
            "[104]\tvalidation_0-logloss:0.02883\tvalidation_1-logloss:0.03560\n",
            "[105]\tvalidation_0-logloss:0.02877\tvalidation_1-logloss:0.03559\n",
            "[106]\tvalidation_0-logloss:0.02859\tvalidation_1-logloss:0.03558\n",
            "[107]\tvalidation_0-logloss:0.02849\tvalidation_1-logloss:0.03556\n",
            "[108]\tvalidation_0-logloss:0.02846\tvalidation_1-logloss:0.03555\n",
            "[109]\tvalidation_0-logloss:0.02839\tvalidation_1-logloss:0.03553\n",
            "[110]\tvalidation_0-logloss:0.02826\tvalidation_1-logloss:0.03552\n",
            "[111]\tvalidation_0-logloss:0.02821\tvalidation_1-logloss:0.03552\n",
            "[112]\tvalidation_0-logloss:0.02814\tvalidation_1-logloss:0.03551\n",
            "[113]\tvalidation_0-logloss:0.02810\tvalidation_1-logloss:0.03548\n",
            "[114]\tvalidation_0-logloss:0.02797\tvalidation_1-logloss:0.03547\n",
            "[115]\tvalidation_0-logloss:0.02783\tvalidation_1-logloss:0.03547\n",
            "[116]\tvalidation_0-logloss:0.02770\tvalidation_1-logloss:0.03546\n",
            "[117]\tvalidation_0-logloss:0.02758\tvalidation_1-logloss:0.03546\n",
            "[118]\tvalidation_0-logloss:0.02747\tvalidation_1-logloss:0.03546\n",
            "[119]\tvalidation_0-logloss:0.02742\tvalidation_1-logloss:0.03545\n",
            "[120]\tvalidation_0-logloss:0.02733\tvalidation_1-logloss:0.03545\n",
            "[121]\tvalidation_0-logloss:0.02727\tvalidation_1-logloss:0.03545\n",
            "[122]\tvalidation_0-logloss:0.02719\tvalidation_1-logloss:0.03544\n",
            "[123]\tvalidation_0-logloss:0.02712\tvalidation_1-logloss:0.03543\n",
            "[124]\tvalidation_0-logloss:0.02708\tvalidation_1-logloss:0.03544\n",
            "[125]\tvalidation_0-logloss:0.02698\tvalidation_1-logloss:0.03543\n",
            "[126]\tvalidation_0-logloss:0.02690\tvalidation_1-logloss:0.03543\n",
            "[127]\tvalidation_0-logloss:0.02681\tvalidation_1-logloss:0.03544\n",
            "[128]\tvalidation_0-logloss:0.02670\tvalidation_1-logloss:0.03544\n",
            "[129]\tvalidation_0-logloss:0.02665\tvalidation_1-logloss:0.03544\n",
            "[130]\tvalidation_0-logloss:0.02660\tvalidation_1-logloss:0.03544\n",
            "[131]\tvalidation_0-logloss:0.02658\tvalidation_1-logloss:0.03544\n",
            "[132]\tvalidation_0-logloss:0.02646\tvalidation_1-logloss:0.03544\n",
            "[133]\tvalidation_0-logloss:0.02637\tvalidation_1-logloss:0.03544\n",
            "[134]\tvalidation_0-logloss:0.02632\tvalidation_1-logloss:0.03545\n",
            "[135]\tvalidation_0-logloss:0.02628\tvalidation_1-logloss:0.03544\n",
            "[136]\tvalidation_0-logloss:0.02623\tvalidation_1-logloss:0.03545\n",
            "[137]\tvalidation_0-logloss:0.02617\tvalidation_1-logloss:0.03545\n",
            "[138]\tvalidation_0-logloss:0.02611\tvalidation_1-logloss:0.03546\n",
            "[139]\tvalidation_0-logloss:0.02607\tvalidation_1-logloss:0.03546\n",
            "[140]\tvalidation_0-logloss:0.02602\tvalidation_1-logloss:0.03547\n",
            "[141]\tvalidation_0-logloss:0.02596\tvalidation_1-logloss:0.03547\n",
            "[142]\tvalidation_0-logloss:0.02591\tvalidation_1-logloss:0.03547\n",
            "[143]\tvalidation_0-logloss:0.02587\tvalidation_1-logloss:0.03547\n",
            "[144]\tvalidation_0-logloss:0.02580\tvalidation_1-logloss:0.03548\n",
            "[145]\tvalidation_0-logloss:0.02574\tvalidation_1-logloss:0.03548\n",
            "[146]\tvalidation_0-logloss:0.02571\tvalidation_1-logloss:0.03548\n",
            "[147]\tvalidation_0-logloss:0.02570\tvalidation_1-logloss:0.03547\n",
            "[148]\tvalidation_0-logloss:0.02564\tvalidation_1-logloss:0.03548\n",
            "[149]\tvalidation_0-logloss:0.02562\tvalidation_1-logloss:0.03547\n",
            "[150]\tvalidation_0-logloss:0.02557\tvalidation_1-logloss:0.03547\n",
            "[151]\tvalidation_0-logloss:0.02554\tvalidation_1-logloss:0.03547\n",
            "[152]\tvalidation_0-logloss:0.02548\tvalidation_1-logloss:0.03547\n",
            "[153]\tvalidation_0-logloss:0.02542\tvalidation_1-logloss:0.03548\n",
            "[154]\tvalidation_0-logloss:0.02539\tvalidation_1-logloss:0.03548\n",
            "[155]\tvalidation_0-logloss:0.02533\tvalidation_1-logloss:0.03548\n",
            "[156]\tvalidation_0-logloss:0.02529\tvalidation_1-logloss:0.03549\n",
            "[157]\tvalidation_0-logloss:0.02522\tvalidation_1-logloss:0.03550\n",
            "[158]\tvalidation_0-logloss:0.02518\tvalidation_1-logloss:0.03551\n",
            "[159]\tvalidation_0-logloss:0.02515\tvalidation_1-logloss:0.03551\n",
            "[160]\tvalidation_0-logloss:0.02512\tvalidation_1-logloss:0.03551\n",
            "[161]\tvalidation_0-logloss:0.02507\tvalidation_1-logloss:0.03551\n",
            "[162]\tvalidation_0-logloss:0.02503\tvalidation_1-logloss:0.03551\n",
            "[163]\tvalidation_0-logloss:0.02500\tvalidation_1-logloss:0.03551\n",
            "[164]\tvalidation_0-logloss:0.02498\tvalidation_1-logloss:0.03552\n",
            "[165]\tvalidation_0-logloss:0.02493\tvalidation_1-logloss:0.03552\n",
            "[166]\tvalidation_0-logloss:0.02489\tvalidation_1-logloss:0.03552\n",
            "[167]\tvalidation_0-logloss:0.02488\tvalidation_1-logloss:0.03552\n",
            "[168]\tvalidation_0-logloss:0.02484\tvalidation_1-logloss:0.03552\n",
            "[169]\tvalidation_0-logloss:0.02483\tvalidation_1-logloss:0.03552\n",
            "[170]\tvalidation_0-logloss:0.02481\tvalidation_1-logloss:0.03553\n",
            "[171]\tvalidation_0-logloss:0.02478\tvalidation_1-logloss:0.03553\n",
            "[172]\tvalidation_0-logloss:0.02476\tvalidation_1-logloss:0.03553\n",
            "[173]\tvalidation_0-logloss:0.02475\tvalidation_1-logloss:0.03552\n",
            "[174]\tvalidation_0-logloss:0.02469\tvalidation_1-logloss:0.03552\n"
          ]
        },
        {
          "output_type": "execute_result",
          "data": {
            "text/plain": [
              "XGBClassifier(base_score=None, booster=None, callbacks=None,\n",
              "              colsample_bylevel=None, colsample_bynode=None,\n",
              "              colsample_bytree=0.50087, device=None, early_stopping_rounds=50,\n",
              "              enable_categorical=False, eval_metric='logloss',\n",
              "              feature_types=None, gamma=None, grow_policy=None,\n",
              "              importance_type=None, interaction_constraints=None,\n",
              "              learning_rate=0.07203, max_bin=None, max_cat_threshold=None,\n",
              "              max_cat_to_onehot=None, max_delta_step=None, max_depth=18,\n",
              "              max_leaves=None, min_child_weight=2, missing=nan,\n",
              "              monotone_constraints=None, multi_strategy=None, n_estimators=400,\n",
              "              n_jobs=None, num_parallel_tree=None, random_state=None, ...)"
            ],
            "text/html": [
              "<style>#sk-container-id-1 {color: black;}#sk-container-id-1 pre{padding: 0;}#sk-container-id-1 div.sk-toggleable {background-color: white;}#sk-container-id-1 label.sk-toggleable__label {cursor: pointer;display: block;width: 100%;margin-bottom: 0;padding: 0.3em;box-sizing: border-box;text-align: center;}#sk-container-id-1 label.sk-toggleable__label-arrow:before {content: \"▸\";float: left;margin-right: 0.25em;color: #696969;}#sk-container-id-1 label.sk-toggleable__label-arrow:hover:before {color: black;}#sk-container-id-1 div.sk-estimator:hover label.sk-toggleable__label-arrow:before {color: black;}#sk-container-id-1 div.sk-toggleable__content {max-height: 0;max-width: 0;overflow: hidden;text-align: left;background-color: #f0f8ff;}#sk-container-id-1 div.sk-toggleable__content pre {margin: 0.2em;color: black;border-radius: 0.25em;background-color: #f0f8ff;}#sk-container-id-1 input.sk-toggleable__control:checked~div.sk-toggleable__content {max-height: 200px;max-width: 100%;overflow: auto;}#sk-container-id-1 input.sk-toggleable__control:checked~label.sk-toggleable__label-arrow:before {content: \"▾\";}#sk-container-id-1 div.sk-estimator input.sk-toggleable__control:checked~label.sk-toggleable__label {background-color: #d4ebff;}#sk-container-id-1 div.sk-label input.sk-toggleable__control:checked~label.sk-toggleable__label {background-color: #d4ebff;}#sk-container-id-1 input.sk-hidden--visually {border: 0;clip: rect(1px 1px 1px 1px);clip: rect(1px, 1px, 1px, 1px);height: 1px;margin: -1px;overflow: hidden;padding: 0;position: absolute;width: 1px;}#sk-container-id-1 div.sk-estimator {font-family: monospace;background-color: #f0f8ff;border: 1px dotted black;border-radius: 0.25em;box-sizing: border-box;margin-bottom: 0.5em;}#sk-container-id-1 div.sk-estimator:hover {background-color: #d4ebff;}#sk-container-id-1 div.sk-parallel-item::after {content: \"\";width: 100%;border-bottom: 1px solid gray;flex-grow: 1;}#sk-container-id-1 div.sk-label:hover label.sk-toggleable__label {background-color: #d4ebff;}#sk-container-id-1 div.sk-serial::before {content: \"\";position: absolute;border-left: 1px solid gray;box-sizing: border-box;top: 0;bottom: 0;left: 50%;z-index: 0;}#sk-container-id-1 div.sk-serial {display: flex;flex-direction: column;align-items: center;background-color: white;padding-right: 0.2em;padding-left: 0.2em;position: relative;}#sk-container-id-1 div.sk-item {position: relative;z-index: 1;}#sk-container-id-1 div.sk-parallel {display: flex;align-items: stretch;justify-content: center;background-color: white;position: relative;}#sk-container-id-1 div.sk-item::before, #sk-container-id-1 div.sk-parallel-item::before {content: \"\";position: absolute;border-left: 1px solid gray;box-sizing: border-box;top: 0;bottom: 0;left: 50%;z-index: -1;}#sk-container-id-1 div.sk-parallel-item {display: flex;flex-direction: column;z-index: 1;position: relative;background-color: white;}#sk-container-id-1 div.sk-parallel-item:first-child::after {align-self: flex-end;width: 50%;}#sk-container-id-1 div.sk-parallel-item:last-child::after {align-self: flex-start;width: 50%;}#sk-container-id-1 div.sk-parallel-item:only-child::after {width: 0;}#sk-container-id-1 div.sk-dashed-wrapped {border: 1px dashed gray;margin: 0 0.4em 0.5em 0.4em;box-sizing: border-box;padding-bottom: 0.4em;background-color: white;}#sk-container-id-1 div.sk-label label {font-family: monospace;font-weight: bold;display: inline-block;line-height: 1.2em;}#sk-container-id-1 div.sk-label-container {text-align: center;}#sk-container-id-1 div.sk-container {/* jupyter's `normalize.less` sets `[hidden] { display: none; }` but bootstrap.min.css set `[hidden] { display: none !important; }` so we also need the `!important` here to be able to override the default hidden behavior on the sphinx rendered scikit-learn.org. See: https://github.com/scikit-learn/scikit-learn/issues/21755 */display: inline-block !important;position: relative;}#sk-container-id-1 div.sk-text-repr-fallback {display: none;}</style><div id=\"sk-container-id-1\" class=\"sk-top-container\"><div class=\"sk-text-repr-fallback\"><pre>XGBClassifier(base_score=None, booster=None, callbacks=None,\n",
              "              colsample_bylevel=None, colsample_bynode=None,\n",
              "              colsample_bytree=0.50087, device=None, early_stopping_rounds=50,\n",
              "              enable_categorical=False, eval_metric=&#x27;logloss&#x27;,\n",
              "              feature_types=None, gamma=None, grow_policy=None,\n",
              "              importance_type=None, interaction_constraints=None,\n",
              "              learning_rate=0.07203, max_bin=None, max_cat_threshold=None,\n",
              "              max_cat_to_onehot=None, max_delta_step=None, max_depth=18,\n",
              "              max_leaves=None, min_child_weight=2, missing=nan,\n",
              "              monotone_constraints=None, multi_strategy=None, n_estimators=400,\n",
              "              n_jobs=None, num_parallel_tree=None, random_state=None, ...)</pre><b>In a Jupyter environment, please rerun this cell to show the HTML representation or trust the notebook. <br />On GitHub, the HTML representation is unable to render, please try loading this page with nbviewer.org.</b></div><div class=\"sk-container\" hidden><div class=\"sk-item\"><div class=\"sk-estimator sk-toggleable\"><input class=\"sk-toggleable__control sk-hidden--visually\" id=\"sk-estimator-id-1\" type=\"checkbox\" checked><label for=\"sk-estimator-id-1\" class=\"sk-toggleable__label sk-toggleable__label-arrow\">XGBClassifier</label><div class=\"sk-toggleable__content\"><pre>XGBClassifier(base_score=None, booster=None, callbacks=None,\n",
              "              colsample_bylevel=None, colsample_bynode=None,\n",
              "              colsample_bytree=0.50087, device=None, early_stopping_rounds=50,\n",
              "              enable_categorical=False, eval_metric=&#x27;logloss&#x27;,\n",
              "              feature_types=None, gamma=None, grow_policy=None,\n",
              "              importance_type=None, interaction_constraints=None,\n",
              "              learning_rate=0.07203, max_bin=None, max_cat_threshold=None,\n",
              "              max_cat_to_onehot=None, max_delta_step=None, max_depth=18,\n",
              "              max_leaves=None, min_child_weight=2, missing=nan,\n",
              "              monotone_constraints=None, multi_strategy=None, n_estimators=400,\n",
              "              n_jobs=None, num_parallel_tree=None, random_state=None, ...)</pre></div></div></div></div></div>"
            ]
          },
          "metadata": {},
          "execution_count": 47
        }
      ]
    },
    {
      "cell_type": "code",
      "source": [
        "xgb_pred_probs = xgb_wrapper.predict(df_test)\n",
        "xgb_preds = [1 if x > 0.5 else 0 for x in xgb_pred_probs]"
      ],
      "metadata": {
        "id": "euwWKA0LI7lL"
      },
      "execution_count": 48,
      "outputs": []
    },
    {
      "cell_type": "code",
      "source": [
        "id = pd.read_csv('test.csv')['id']\n",
        "\n",
        "with open(\"result_xgb.csv\", \"w\") as f2:\n",
        "    f2.write(\"id,class\\n\")\n",
        "    for i , p in zip(id , xgb_preds):\n",
        "\n",
        "      if p == 1:\n",
        "        f2.write(f\"{i},p\\n\")\n",
        "      else:\n",
        "        f2.write(f\"{i},e\\n\")"
      ],
      "metadata": {
        "id": "8Eq-XQ0tI8JT"
      },
      "execution_count": 49,
      "outputs": []
    },
    {
      "cell_type": "code",
      "source": [
        "id = pd.read_csv('test.csv')['id']\n",
        "\n",
        "with open(\"result_xgb_cat.csv\", \"w\") as f2:\n",
        "    f2.write(\"id,class\\n\")\n",
        "    for i, x, c in zip(id , xgb_pred_probs, cat_pred_probs):\n",
        "\n",
        "      if x + c >= 1:\n",
        "        f2.write(f\"{i},p\\n\")\n",
        "      else:\n",
        "        f2.write(f\"{i},e\\n\")"
      ],
      "metadata": {
        "id": "4b2YnmkdNkdO"
      },
      "execution_count": 50,
      "outputs": []
    }
  ]
}